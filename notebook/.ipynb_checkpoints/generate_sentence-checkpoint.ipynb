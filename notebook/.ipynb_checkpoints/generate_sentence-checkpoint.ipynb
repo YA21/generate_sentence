{
 "cells": [
  {
   "cell_type": "markdown",
   "metadata": {},
   "source": [
    "### preprocess original data"
   ]
  },
  {
   "cell_type": "code",
   "execution_count": 4,
   "metadata": {},
   "outputs": [],
   "source": [
    "import re\n",
    "import os\n",
    "\n",
    "data_path = \"../datas/wagahaiwa_nekodearu.txt\"\n",
    "\n",
    "# open files as binary data\n",
    "bin_data = open(data_path, \"rb\")\n",
    "\n",
    "lines = bin_data.readlines()\n",
    "text = \"\"\n",
    "for line in lines:\n",
    "    tmp_text = line.decode(\"Shift_JIS\")\n",
    "    tmp_text = re.split(r'\\r', tmp_text)[0]\n",
    "    tmp_text = re.split(r'底本', tmp_text)[0]\n",
    "    tmp_text = tmp_text.replace('|', '')\n",
    "    tmp_text = re.sub(r'《.+?》','', tmp_text)\n",
    "    tmp_text = re.sub(r'［＃.+?］','', tmp_text)\n",
    "    text += tmp_text\n",
    "\n",
    "os.makedirs('../processed_data/', exist_ok=True)\n",
    "file = open('../processed_data/wagahai.txt', 'w', encoding='utf-8').write(text)"
   ]
  },
  {
   "cell_type": "markdown",
   "metadata": {},
   "source": [
    "### prepare data for LSTM"
   ]
  },
  {
   "cell_type": "code",
   "execution_count": 22,
   "metadata": {
    "scrolled": true
   },
   "outputs": [],
   "source": [
    "import numpy as np\n",
    "\n",
    "processed_data_path = '../processed_data/wagahai.txt'\n",
    "bin_data = open(processed_data_path, \"rb\").read()\n",
    "text = bin_data.decode(\"utf-8\")\n",
    "chars = sorted(list(set(text)))\n",
    "\n",
    "char_indices = dict((c, i) for i, c in enumerate(chars))\n",
    "indices_char = dict((i, c) for i, c in enumerate(chars))\n",
    "\n",
    "maxlen = 40\n",
    "stride = 3\n",
    "\n",
    "sentences = [] # training data\n",
    "next_chars = [] # answer data\n",
    "# for i in range(0, len(text)-maxlen, stride):\n",
    "for i in range(0, 10000, stride):\n",
    "    sentences.append(text[i:i+maxlen])\n",
    "    next_chars.append(text[i+maxlen])\n",
    "\n",
    "X = np.zeros((len(sentences), maxlen, len(chars)), dtype=np.bool)\n",
    "Y = np.zeros((len(sentences), len(chars)), dtype=np.bool)\n",
    "\n",
    "for i, sentence in enumerate(sentences):\n",
    "    for j, char_ in enumerate(sentence):\n",
    "        X[i, j, char_indices[char_]] = 1\n",
    "    Y[i, char_indices[next_chars[i]]] = 1"
   ]
  },
  {
   "cell_type": "markdown",
   "metadata": {},
   "source": [
    "### build network"
   ]
  },
  {
   "cell_type": "code",
   "execution_count": 23,
   "metadata": {},
   "outputs": [],
   "source": [
    "from keras.models import Sequential\n",
    "from keras.layers import Dense, Activation, LSTM\n",
    "from keras.optimizers import RMSprop\n",
    "\n",
    "def simple_LSTM(input_shape, chars_num):\n",
    "    model = Sequential()\n",
    "    model.add(LSTM(128, input_shape=input_shape))\n",
    "    model.add(Dense(chars_num))\n",
    "    model.add(Activation(\"softmax\"))\n",
    "    optimizer = RMSprop()\n",
    "    model.compile(loss=\"categorical_crossentropy\", optimizer=optimizer, metrics=[\"accuracy\"])\n",
    "    return model"
   ]
  },
  {
   "cell_type": "markdown",
   "metadata": {},
   "source": [
    "### train network and generate sentence"
   ]
  },
  {
   "cell_type": "code",
   "execution_count": 36,
   "metadata": {
    "scrolled": false
   },
   "outputs": [
    {
     "name": "stdout",
     "output_type": "stream",
     "text": [
      "Epoch 1/10\n",
      "3334/3334 [==============================] - 31s 9ms/step - loss: 6.1456 - acc: 0.0441\n",
      "Epoch 2/10\n",
      "3334/3334 [==============================] - 30s 9ms/step - loss: 5.1926 - acc: 0.0486\n",
      "Epoch 3/10\n",
      "3334/3334 [==============================] - 30s 9ms/step - loss: 5.1075 - acc: 0.0498\n",
      "Epoch 4/10\n",
      "3334/3334 [==============================] - 30s 9ms/step - loss: 5.0849 - acc: 0.0468\n",
      "Epoch 5/10\n",
      "3334/3334 [==============================] - 30s 9ms/step - loss: 5.0653 - acc: 0.0498\n",
      "Epoch 6/10\n",
      "3334/3334 [==============================] - 30s 9ms/step - loss: 5.0521 - acc: 0.0504\n",
      "Epoch 7/10\n",
      "3334/3334 [==============================] - 30s 9ms/step - loss: 5.0432 - acc: 0.0492\n",
      "Epoch 8/10\n",
      "3334/3334 [==============================] - 31s 9ms/step - loss: 5.0338 - acc: 0.0501\n",
      "Epoch 9/10\n",
      "3334/3334 [==============================] - 31s 9ms/step - loss: 5.0383 - acc: 0.0519\n",
      "Epoch 10/10\n",
      "3334/3334 [==============================] - 30s 9ms/step - loss: 5.0039 - acc: 0.0477\n",
      "original sentence:  した話をしよう。元来この主人は何といって人に勝れて出来る事もないが、何にでもよく\n",
      "generated sentence:  した話をしよう。元来この主人は何といって人に勝れて出来る事もないが、何にでもよくのののののののののののののののののののののののののののののののののののののののの\n"
     ]
    }
   ],
   "source": [
    "import random\n",
    "model = simple_LSTM(input_shape=X.shape[1:], chars_num=len(chars))\n",
    "model.fit(X, Y, batch_size=128, verbose=1, epochs=10)\n",
    "random_index = random.randint(0, len(sentences)-1)\n",
    "sentence = sentences[random_index]\n",
    "print(\"original sentence: \", sentence)\n",
    "generated_sentence = sentence\n",
    "for i in range(40):\n",
    "    x = np.zeros((1,maxlen,len(chars)))\n",
    "    for j, char_ in enumerate(sentence):\n",
    "        x[0, j, char_indices[char_]] = 1\n",
    "    preds = model.predict(x)[0]\n",
    "\n",
    "    next_index = np.argmax(preds)\n",
    "    next_char = indices_char[next_index]\n",
    "    generated_sentence += next_char\n",
    "\n",
    "    sentence = sentence[1:] + next_char\n",
    "print(\"generated sentence: \", generated_sentence)"
   ]
  },
  {
   "cell_type": "code",
   "execution_count": 28,
   "metadata": {},
   "outputs": [
    {
     "name": "stdout",
     "output_type": "stream",
     "text": [
      "> \u001b[0;32m/home/yaz/.local/lib/python3.5/site-packages/keras/engine/training_utils.py\u001b[0m(128)\u001b[0;36mstandardize_input_data\u001b[0;34m()\u001b[0m\n",
      "\u001b[0;32m    126 \u001b[0;31m                        \u001b[0;34m': expected '\u001b[0m \u001b[0;34m+\u001b[0m \u001b[0mnames\u001b[0m\u001b[0;34m[\u001b[0m\u001b[0mi\u001b[0m\u001b[0;34m]\u001b[0m \u001b[0;34m+\u001b[0m \u001b[0;34m' to have '\u001b[0m \u001b[0;34m+\u001b[0m\u001b[0;34m\u001b[0m\u001b[0m\n",
      "\u001b[0m\u001b[0;32m    127 \u001b[0;31m                        \u001b[0mstr\u001b[0m\u001b[0;34m(\u001b[0m\u001b[0mlen\u001b[0m\u001b[0;34m(\u001b[0m\u001b[0mshape\u001b[0m\u001b[0;34m)\u001b[0m\u001b[0;34m)\u001b[0m \u001b[0;34m+\u001b[0m \u001b[0;34m' dimensions, but got array '\u001b[0m\u001b[0;34m\u001b[0m\u001b[0m\n",
      "\u001b[0m\u001b[0;32m--> 128 \u001b[0;31m                        'with shape ' + str(data_shape))\n",
      "\u001b[0m\u001b[0;32m    129 \u001b[0;31m                \u001b[0;32mif\u001b[0m \u001b[0;32mnot\u001b[0m \u001b[0mcheck_batch_axis\u001b[0m\u001b[0;34m:\u001b[0m\u001b[0;34m\u001b[0m\u001b[0m\n",
      "\u001b[0m\u001b[0;32m    130 \u001b[0;31m                    \u001b[0mdata_shape\u001b[0m \u001b[0;34m=\u001b[0m \u001b[0mdata_shape\u001b[0m\u001b[0;34m[\u001b[0m\u001b[0;36m1\u001b[0m\u001b[0;34m:\u001b[0m\u001b[0;34m]\u001b[0m\u001b[0;34m\u001b[0m\u001b[0m\n",
      "\u001b[0m\n",
      "ipdb> quit\n"
     ]
    }
   ],
   "source": [
    "%debug"
   ]
  },
  {
   "cell_type": "code",
   "execution_count": null,
   "metadata": {},
   "outputs": [],
   "source": []
  }
 ],
 "metadata": {
  "kernelspec": {
   "display_name": "Python 3",
   "language": "python",
   "name": "python3"
  },
  "language_info": {
   "codemirror_mode": {
    "name": "ipython",
    "version": 3
   },
   "file_extension": ".py",
   "mimetype": "text/x-python",
   "name": "python",
   "nbconvert_exporter": "python",
   "pygments_lexer": "ipython3",
   "version": "3.5.2"
  }
 },
 "nbformat": 4,
 "nbformat_minor": 2
}
